{
 "cells": [
  {
   "cell_type": "code",
   "execution_count": 57,
   "id": "2947b57c",
   "metadata": {},
   "outputs": [],
   "source": [
    "import pandas as pd"
   ]
  },
  {
   "cell_type": "code",
   "execution_count": 58,
   "id": "adde684b",
   "metadata": {},
   "outputs": [
    {
     "data": {
      "text/plain": [
       "['crowdfunding_info', 'contact_info']"
      ]
     },
     "execution_count": 58,
     "metadata": {},
     "output_type": "execute_result"
    }
   ],
   "source": [
    "# Read the data into a Pandas DataFrame\n",
    "crowdfunding_data = pd.ExcelFile(\"crowdfunding.xlsx\")\n",
    "# Get the sheet names.\n",
    "crowdfunding_data.sheet_names"
   ]
  },
  {
   "cell_type": "code",
   "execution_count": null,
   "id": "a1a5b97d",
   "metadata": {},
   "outputs": [],
   "source": [
    "# Get the crowdfunding_info from the crowdfunding_info worksheet. \n",
    "crowdfunding_info_df = pd.read_excel(crowdfunding_data, sheet_name='crowdfunding_info')\n",
    "crowdfunding_info_df.head()\n"
   ]
  },
  {
   "cell_type": "code",
   "execution_count": null,
   "id": "f78d6011",
   "metadata": {},
   "outputs": [],
   "source": [
    "# Get the contact_info from the contact_info worksheet.\n",
    "# Increase the width of the column.\n",
    "pd.set_option('max_colwidth', 400)\n",
    "contact_info_df = pd.read_excel(crowdfunding_data, sheet_name='contact_info', header=3)\n",
    "contact_info_df.head()\n"
   ]
  },
  {
   "cell_type": "code",
   "execution_count": null,
   "id": "3b61db35",
   "metadata": {},
   "outputs": [],
   "source": [
    "# Get a brief summary of the crowdfunding_info DataFrame. \n",
    "crowdfunding_info_df.info()"
   ]
  },
  {
   "cell_type": "code",
   "execution_count": null,
   "id": "7f66b672",
   "metadata": {},
   "outputs": [],
   "source": [
    "# Get a brief summary of the contact_info DataFrame. \n",
    "contact_info_df.info()"
   ]
  },
  {
   "cell_type": "code",
   "execution_count": null,
   "id": "a5c420d9",
   "metadata": {},
   "outputs": [],
   "source": [
    "# Get the unique values in the category & sub-category column. \n",
    "crowdfunding_info_df[\"category & sub-category\"].unique()"
   ]
  },
  {
   "cell_type": "code",
   "execution_count": null,
   "id": "0af9bf4b",
   "metadata": {},
   "outputs": [],
   "source": [
    "# Assign the category and subcategory values to category and subcategory columns.\n",
    "crowdfunding_info_df[[\"category\",\"subcategory\"]] = crowdfunding_info_df[\"category & sub-category\"].str.split('/', n=1, expand=True)\n",
    "crowdfunding_info_df.head(10)\n"
   ]
  },
  {
   "cell_type": "code",
   "execution_count": null,
   "id": "79e76a75",
   "metadata": {},
   "outputs": [],
   "source": [
    "# Get the distinct values in the category and subcategory columns.\n",
    "print(crowdfunding_info_df[\"category\"].nunique())\n",
    "print(crowdfunding_info_df[\"subcategory\"].nunique())"
   ]
  },
  {
   "cell_type": "code",
   "execution_count": null,
   "id": "fb2c82b3",
   "metadata": {},
   "outputs": [],
   "source": [
    "# Get the unique categories and subcategories in separate lists.\n",
    "categories = crowdfunding_info_df[\"category\"].unique()\n",
    "subcategories = crowdfunding_info_df[\"subcategory\"].unique()\n",
    "print(categories)\n",
    "print()\n",
    "print(subcategories)"
   ]
  },
  {
   "cell_type": "code",
   "execution_count": null,
   "id": "b02dd291",
   "metadata": {},
   "outputs": [],
   "source": [
    "# Import the Numpy dependency\n",
    "import numpy as np\n",
    "# Create numpy arrays that have 1-10 for the category_ids and 1-25 for the subcategory_ids.\n",
    "category_ids = np.arange(1, 10)\n",
    "subcategory_ids = np.arange(1, 25)"
   ]
  },
  {
   "cell_type": "code",
   "execution_count": null,
   "id": "8ab9c55d",
   "metadata": {},
   "outputs": [],
   "source": [
    "# Use a list comprehension to add \"cat0\" to each category_id. \n",
    "cat_ids = [\"cat0\" + str(cat_id) for cat_id in category_ids]\n",
    "print(cat_ids)\n"
   ]
  },
  {
   "cell_type": "code",
   "execution_count": null,
   "id": "9aee8b0e",
   "metadata": {},
   "outputs": [],
   "source": [
    "# Use a list comprehension to add \"scat0\" to each subcategory_id. \n",
    "scat_ids = [\"scat0\" + str(scat_id) for scat_id in subcategory_ids ]\n",
    "print(scat_ids)"
   ]
  },
  {
   "cell_type": "code",
   "execution_count": null,
   "id": "9cb495ec",
   "metadata": {},
   "outputs": [],
   "source": [
    "# Create a category DataFrame with the cat_ids array as the category_id and categories list as the category name.\n",
    "category_df = pd.DataFrame({\n",
    "    \"category_id\": cat_ids,\n",
    "    \"category\" : categories})\n",
    "# Create a subcategory DataFrame with the scat_ids array as the subcategory_id and subcategories list as the subcategory name.\n",
    "subcategory_df = pd.DataFrame({\n",
    "    \"subcategory_id\": scat_ids,\n",
    "    \"subcategory\" : subcategories})\n"
   ]
  },
  {
   "cell_type": "code",
   "execution_count": null,
   "id": "c5a36ee3",
   "metadata": {},
   "outputs": [],
   "source": [
    "category_df.to_csv(\"category_df.csv\", index=False)\n",
    "subcategory_df.to_csv(\"subcategory_df.csv\", index=False)\n"
   ]
  },
  {
   "cell_type": "code",
   "execution_count": null,
   "id": "b3e8ade3",
   "metadata": {},
   "outputs": [],
   "source": [
    "# Create a copy of the crowdfunding_info_df DataFrame name campaign_df.\n",
    "campaign_df = crowdfunding_info_df.copy()\n",
    "campaign_df.head()"
   ]
  },
  {
   "cell_type": "code",
   "execution_count": null,
   "id": "151b543b",
   "metadata": {},
   "outputs": [],
   "source": [
    "# Rename the blurb, launched_at, and deadline columns.\n",
    "campaign_df = campaign_df.rename(columns={'blurb': 'description', 'launched_at': 'launched_date', 'deadline': 'end_date'})\n"
   ]
  },
  {
   "cell_type": "code",
   "execution_count": null,
   "id": "91468829",
   "metadata": {},
   "outputs": [],
   "source": [
    "# Convert the goal and pledged columns to a `float` data type.\n",
    "campaign_df[[\"goal\",\"pledged\"]] = campaign_df[[\"goal\",\"pledged\"]].astype(float)\n",
    "campaign_df.head()"
   ]
  },
  {
   "cell_type": "code",
   "execution_count": null,
   "id": "eef2fba4",
   "metadata": {},
   "outputs": [],
   "source": [
    "# Format the launched_date and end_date columns to datetime format.\n",
    "from datetime import datetime as dt\n",
    "campaign_df[\"launched_date\"] = pd.to_datetime(campaign_df[\"launched_date\"], unit='s').dt.strftime('%Y-%m-%d') \n",
    "campaign_df[\"end_date\"] = pd.to_datetime(campaign_df[\"end_date\"], unit='s').dt.strftime('%Y-%m-%d')\n",
    "campaign_df.head()"
   ]
  },
  {
   "cell_type": "code",
   "execution_count": null,
   "id": "6ffa810a",
   "metadata": {},
   "outputs": [],
   "source": [
    "# Merge the campaign_df with the category_df on the \"category\" column and \n",
    "# the subcategory_df on the \"subcategory\" column.\n",
    "campaign_merged_df = campaign_df.merge(category_df, on='category', how='left').merge(subcategory_df, on='subcategory', how='left')\n",
    "campaign_merged_df.tail(10)\n"
   ]
  },
  {
   "cell_type": "code",
   "execution_count": null,
   "id": "3d3251e4",
   "metadata": {},
   "outputs": [],
   "source": [
    "# Drop unwanted columns.\n",
    "campaign_cleaned = campaign_merged_df.drop(['staff_pick', 'spotlight', 'category & sub-category','category', 'subcategory'], axis=1)\n",
    "campaign_cleaned.head()\n"
   ]
  },
  {
   "cell_type": "code",
   "execution_count": null,
   "id": "ee21ed9c",
   "metadata": {},
   "outputs": [],
   "source": [
    "# Show the contact_info_df DataFrame (get attribute error)\n",
    "contact_info_df.head()"
   ]
  },
  {
   "cell_type": "code",
   "execution_count": null,
   "id": "42e6ac58",
   "metadata": {},
   "outputs": [],
   "source": [
    "# Retrieve the data from the \"contact_info\" column.\n",
    "contact_info_list = contact_info_df.contact_info.to_list()\n",
    "contact_info_list"
   ]
  },
  {
   "cell_type": "code",
   "execution_count": null,
   "id": "bd0543b0",
   "metadata": {},
   "outputs": [],
   "source": [
    "# Pop out the unique identification number using list slicing. \n",
    "print(contact_info_list[0][:15])\n",
    "print(contact_info_list[0][15:19])"
   ]
  },
  {
   "cell_type": "code",
   "execution_count": null,
   "id": "def7c309",
   "metadata": {},
   "outputs": [],
   "source": [
    "# Pop out the unique identification number using list comprehension and slicing. \n",
    "print([x[15:19] for x in contact_info_list])"
   ]
  },
  {
   "cell_type": "code",
   "execution_count": null,
   "id": "27dc027f",
   "metadata": {},
   "outputs": [],
   "source": [
    "# Extract the four-digit contact ID number and add it to a new column in the `campaign_cleaned` DataFrame.\n",
    "campaign_cleaned['contact_id'] = [x[15:19] for x in contact_info_df['contact_info'].values]\n",
    "campaign_cleaned.head()\n"
   ]
  },
  {
   "cell_type": "code",
   "execution_count": null,
   "id": "4316c000",
   "metadata": {},
   "outputs": [],
   "source": [
    "# Convert the \"contact_id\" column to an int64 data type.\n",
    "campaign_cleaned['contact_id'] = pd.to_numeric(campaign_cleaned['contact_id'])\n",
    "campaign_cleaned.info()"
   ]
  },
  {
   "cell_type": "code",
   "execution_count": null,
   "id": "6b2f8723",
   "metadata": {},
   "outputs": [],
   "source": [
    "# Place the columns in the following order:\n",
    "# \"cf_id\", \"contact_id\", \"company_name\", \"description\", \"goal\", \"pledged\", \"outcome\", \"backers_count\", \"country\", \"currency\", \"launched_date\", \"end_date\", \"category_id\",\"subcategory_id\"\n",
    "campaign_cleaned = campaign_cleaned[['cf_id','contact_id',\n",
    "                                           'company_name', 'description', \n",
    "                                           'goal', 'pledged', 'outcome', \n",
    "                                           'backers_count', 'country', 'currency', \n",
    "                                           'launched_date', 'end_date', 'category_id', \n",
    "                                           'subcategory_id']]\n",
    "campaign_cleaned\n",
    "\n"
   ]
  },
  {
   "cell_type": "code",
   "execution_count": null,
   "id": "1c105b88",
   "metadata": {},
   "outputs": [],
   "source": [
    "# Export the DataFrame as a CSV named campaign.csv, with encoding='utf8' and without the index.\n",
    "campaign_cleaned.to_csv(\"campaign.csv\", encoding='utf8', index=False)\n"
   ]
  },
  {
   "cell_type": "code",
   "execution_count": null,
   "id": "31b36940",
   "metadata": {},
   "outputs": [],
   "source": [
    "# Extract the four-digit contact ID number and add it to a new column in the contact_info DataFrame.\n",
    "contact_info_df[\"contact_id\"] = [x[15:19] for x in contact_info_df[\"contact_info\"].values]\n",
    "contact_info_df.head()\n"
   ]
  },
  {
   "cell_type": "code",
   "execution_count": null,
   "id": "412e22c4",
   "metadata": {},
   "outputs": [],
   "source": [
    "# Get the data from the first row and convert it to a dictionary.\n",
    "import json\n",
    "first_row = contact_info_df.iloc[0]['contact_info']\n",
    "converted_data = json.loads(first_row)\n",
    "for k, v in converted_data.items():\n",
    "    print(k,v)"
   ]
  },
  {
   "cell_type": "code",
   "execution_count": null,
   "id": "0ccaa90e",
   "metadata": {},
   "outputs": [],
   "source": [
    "# Iterate through the contact_info_df and convert each row to a dictionary.\n",
    "dict_values = []\n",
    "for i, row in contact_info_df.iterrows():\n",
    "    # Get the data first item in each row.\n",
    "    data = row['contact_info']\n",
    "    converted_data = json.loads(data)\n",
    "    # Iterate through each dictionary (row) and get the values for each row using list comprehension.\n",
    "    row_values = [v for k, v in converted_data.items()]\n",
    "    # Append the list of values for each row to a new list. \n",
    "    dict_values.append(row_values)\n",
    "\n",
    "# Print out the list of values for each row.\n",
    "print(dict_values)"
   ]
  },
  {
   "cell_type": "code",
   "execution_count": null,
   "id": "edaeea25",
   "metadata": {},
   "outputs": [],
   "source": [
    "# Create a contact_info DataFrame and add each list of values, i.e., each row to the 'contact_id', 'name', 'email' columns.\n",
    "contacts_df = pd.DataFrame(dict_values, columns=['contact_id', 'name', 'email'])\n",
    "contacts_df.head()"
   ]
  },
  {
   "cell_type": "code",
   "execution_count": null,
   "id": "881517a6",
   "metadata": {},
   "outputs": [],
   "source": [
    "# Assign the first name and last name to separate columns.\n",
    "contacts_df[[\"first_name\",\"last_name\"]]=contacts_df[\"name\"].str.split(\" \", n=1, expand=True)\n",
    "contacts_df.head()\n"
   ]
  },
  {
   "cell_type": "code",
   "execution_count": null,
   "id": "0630803d",
   "metadata": {},
   "outputs": [],
   "source": [
    "# Drop the name column. \n",
    "contacts_df_clean = contacts_df.drop(['name'], axis=1)\n",
    "contacts_df_clean.head(10)\n"
   ]
  },
  {
   "cell_type": "code",
   "execution_count": null,
   "id": "6aa7f0ff",
   "metadata": {},
   "outputs": [],
   "source": [
    "# Organize new columns\n",
    "new_columns=[\"contact_id\", \"first_name\", \"last_name\", \"email\"]\n",
    "contacts_df_clean=contacts_df_clean[new_columns]\n",
    "contacts_df_clean.head()\n"
   ]
  },
  {
   "cell_type": "code",
   "execution_count": null,
   "id": "9e0c7bb4",
   "metadata": {},
   "outputs": [],
   "source": [
    "# Save new csv file\n",
    "contacts_df_clean.to_csv(\"contacts.csv\", encoding='utf8', index=False)"
   ]
  },
  {
   "cell_type": "code",
   "execution_count": null,
   "id": "6268f543",
   "metadata": {},
   "outputs": [],
   "source": []
  }
 ],
 "metadata": {
  "kernelspec": {
   "display_name": "Python 3 (ipykernel)",
   "language": "python",
   "name": "python3"
  },
  "language_info": {
   "codemirror_mode": {
    "name": "ipython",
    "version": 3
   },
   "file_extension": ".py",
   "mimetype": "text/x-python",
   "name": "python",
   "nbconvert_exporter": "python",
   "pygments_lexer": "ipython3",
   "version": "3.7.13"
  }
 },
 "nbformat": 4,
 "nbformat_minor": 5
}
